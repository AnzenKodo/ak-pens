{
 "cells": [
  {
   "cell_type": "code",
   "execution_count": 1,
   "id": "afcf5a30",
   "metadata": {},
   "outputs": [],
   "source": [
    "import sympy"
   ]
  },
  {
   "cell_type": "code",
   "execution_count": 2,
   "id": "1191e48e",
   "metadata": {},
   "outputs": [],
   "source": [
    "sympy.init_printing()"
   ]
  },
  {
   "cell_type": "code",
   "execution_count": 5,
   "id": "02b33db6",
   "metadata": {},
   "outputs": [],
   "source": [
    "t, s = sympy.symbols('t, s')\n",
    "a = sympy.symbols('a', real=True, positive=True)"
   ]
  },
  {
   "cell_type": "code",
   "execution_count": 7,
   "id": "f363fabf",
   "metadata": {},
   "outputs": [
    {
     "data": {
      "text/latex": [
       "$\\displaystyle \\begin{cases} \\frac{1}{s \\left(\\frac{a}{s} + 1\\right)} & \\text{for}\\: \\left|{\\arg{\\left(s \\right)}}\\right| \\leq \\frac{\\pi}{2} \\\\\\int\\limits_{0}^{\\infty} e^{- a t} e^{- s t}\\, dt & \\text{otherwise} \\end{cases}$"
      ],
      "text/plain": [
       "⎧       1                         π\n",
       "⎪   ─────────      for │arg(s)│ ≤ ─\n",
       "⎪     ⎛a    ⎞                     2\n",
       "⎪   s⋅⎜─ + 1⎟                      \n",
       "⎪     ⎝s    ⎠                      \n",
       "⎪                                  \n",
       "⎨∞                                 \n",
       "⎪⌠                                 \n",
       "⎪⎮  -a⋅t  -s⋅t                     \n",
       "⎪⎮ ℯ    ⋅ℯ     dt     otherwise    \n",
       "⎪⌡                                 \n",
       "⎪0                                 \n",
       "⎩                                  "
      ]
     },
     "execution_count": 7,
     "metadata": {},
     "output_type": "execute_result"
    }
   ],
   "source": [
    "sympy.integrate(f*sympy.exp(-s*t), (t, 0, sympy.oo))"
   ]
  },
  {
   "cell_type": "code",
   "execution_count": 8,
   "id": "6aa875b3",
   "metadata": {},
   "outputs": [
    {
     "data": {
      "text/latex": [
       "$\\displaystyle \\left( \\frac{1}{a + s}, \\  - a, \\  \\text{True}\\right)$"
      ],
      "text/plain": [
       "⎛  1            ⎞\n",
       "⎜─────, -a, True⎟\n",
       "⎝a + s          ⎠"
      ]
     },
     "execution_count": 8,
     "metadata": {},
     "output_type": "execute_result"
    }
   ],
   "source": [
    "sympy.laplace_transform(f, t, s)"
   ]
  },
  {
   "cell_type": "code",
   "execution_count": 12,
   "id": "dabbc88d",
   "metadata": {},
   "outputs": [
    {
     "ename": "NameError",
     "evalue": "name 'invL' is not defined",
     "output_type": "error",
     "traceback": [
      "\u001b[0;31m---------------------------------------------------------------------------\u001b[0m",
      "\u001b[0;31mNameError\u001b[0m                                 Traceback (most recent call last)",
      "Input \u001b[0;32mIn [12]\u001b[0m, in \u001b[0;36m<cell line: 1>\u001b[0;34m()\u001b[0m\n\u001b[0;32m----> 1\u001b[0m invL(F)\n",
      "\u001b[0;31mNameError\u001b[0m: name 'invL' is not defined"
     ]
    }
   ],
   "source": [
    "invL(F)"
   ]
  }
 ],
 "metadata": {
  "kernelspec": {
   "display_name": "Python 3",
   "language": "python",
   "name": "python3"
  },
  "language_info": {
   "codemirror_mode": {
    "name": "ipython",
    "version": 3
   },
   "file_extension": ".py",
   "mimetype": "text/x-python",
   "name": "python",
   "nbconvert_exporter": "python",
   "pygments_lexer": "ipython3",
   "version": "3.10.8"
  }
 },
 "nbformat": 4,
 "nbformat_minor": 5
}
