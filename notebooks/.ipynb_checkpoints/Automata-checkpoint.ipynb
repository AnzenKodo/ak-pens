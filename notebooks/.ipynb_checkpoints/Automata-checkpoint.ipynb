{
 "cells": [
  {
   "cell_type": "code",
   "execution_count": null,
   "id": "ed32f133",
   "metadata": {},
   "outputs": [],
   "source": [
    "import sys\n",
    "sys.path.append('/home/ramen/.local/lib/python3.10/site-packages')"
   ]
  },
  {
   "cell_type": "markdown",
   "id": "eab207f1",
   "metadata": {},
   "source": [
    "- [Cheatsheet](https://cheatography.com/vipera/cheat-sheets/automata/)\n",
    "- [Theory of Automata](https://cstaleem.com/theory-of-automata)\n",
    "\n",
    "## "
   ]
  },
  {
   "cell_type": "code",
   "execution_count": 49,
   "id": "a8016828",
   "metadata": {
    "slideshow": {
     "slide_type": "skip"
    }
   },
   "outputs": [
    {
     "data": {
      "text/plain": [
       "'0100100010100111110111010011011011111011110111001111000100011011000100101111001010101000110011011010'"
      ]
     },
     "execution_count": 49,
     "metadata": {},
     "output_type": "execute_result"
    }
   ],
   "source": [
    "from automata.fa.dfa import DFA\n",
    "\n",
    "dfa = DFA(\n",
    "    states={'q0', 'q1'},\n",
    "    input_symbols={'0', '1'},\n",
    "    transitions={\n",
    "        'q0': {'0': 'q0', '1': 'q1'},\n",
    "        'q1': {'0': 'q1', '1': 'q0'},\n",
    "    },\n",
    "    initial_state='q0',\n",
    "    final_states={'q0','q1'}\n",
    ")\n",
    "dfa.count_words_of_length(3)\n",
    "\n"
   ]
  },
  {
   "cell_type": "code",
   "execution_count": null,
   "id": "f1ff71bb",
   "metadata": {},
   "outputs": [],
   "source": []
  },
  {
   "cell_type": "code",
   "execution_count": 51,
   "id": "1a1c5882",
   "metadata": {},
   "outputs": [
    {
     "data": {
      "text/plain": [
       "'q0'"
      ]
     },
     "execution_count": 51,
     "metadata": {},
     "output_type": "execute_result"
    }
   ],
   "source": [
    "dfa.read_input(dfa.random_word(100))  # returns 'q1'\n"
   ]
  }
 ],
 "metadata": {
  "kernelspec": {
   "display_name": "Python 3",
   "language": "python",
   "name": "python3"
  },
  "language_info": {
   "codemirror_mode": {
    "name": "ipython",
    "version": 3
   },
   "file_extension": ".py",
   "mimetype": "text/x-python",
   "name": "python",
   "nbconvert_exporter": "python",
   "pygments_lexer": "ipython3",
   "version": "3.10.10"
  }
 },
 "nbformat": 4,
 "nbformat_minor": 5
}
