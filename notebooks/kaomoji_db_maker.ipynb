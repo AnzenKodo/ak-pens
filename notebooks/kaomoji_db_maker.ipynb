{
  "cells": [
    {
      "cell_type": "code",
      "execution_count": null,
      "metadata": {
        "id": "Db6zIBFZOVRq"
      },
      "outputs": [],
      "source": [
        "from sklearn.feature_extraction.text import TfidfVectorizer\n",
        "from sklearn.neighbors import NearestNeighbors\n",
        "import numpy as np\n",
        "import random\n",
        "import json\n",
        "import os\n",
        "from google.colab import userdata"
      ]
    },
    {
      "cell_type": "code",
      "source": [
        "!wget -q https://github.com/ekohrt/emoticon_kaomoji_dataset/raw/refs/heads/main/emoticon_dict.json"
      ],
      "metadata": {
        "id": "M2uEpsM6MI-j"
      },
      "execution_count": null,
      "outputs": []
    },
    {
      "cell_type": "code",
      "execution_count": null,
      "metadata": {
        "id": "daxYm7rdOXNY"
      },
      "outputs": [],
      "source": [
        "kamoji_txt = open(\"kaomoji.txt\", \"w\")\n",
        "\n",
        "with open('emoticon_dict.json', 'r', encoding='utf-8') as f:\n",
        "  kamoji_json = json.load(f)\n",
        "  for key in kamoji_json:\n",
        "    kamoji_json_opts = kamoji_json[key]\n",
        "\n",
        "    kamoji_txt.write(key+\" ...\")\n",
        "    for value in kamoji_json_opts[\"original_tags\"]:\n",
        "        kamoji_txt.write(value+\" \")\n",
        "    for value in kamoji_json_opts[\"new_tags\"]:\n",
        "        kamoji_txt.write(value+\" \")\n",
        "    kamoji_txt.write(\"\\n\")\n",
        "\n",
        "kamoji_txt.close()"
      ]
    },
    {
      "cell_type": "code",
      "source": [
        "!cat kaomoji.txt | head"
      ],
      "metadata": {
        "colab": {
          "base_uri": "https://localhost:8080/"
        },
        "id": "2IyWXQ20S4IW",
        "outputId": "d4f44cb7-6ac0-43ee-dad2-26477a4e9e41"
      },
      "execution_count": null,
      "outputs": [
        {
          "output_type": "stream",
          "name": "stdout",
          "text": [
            "( ˘͈ ᵕ ˘͈♡) ...kissed face popular love blush heart kiss smiling \n",
            "(╥﹏╥) ...stupid ass memory leak popular sad sobbing sad crying \n",
            "（＾ω＾） ...happy blush Good Day #4 popular blush \n",
            "(◍•ᴗ•◍)♡ ✧*。 ...Giving Love popular love heart smiling \n",
            "⸜( ˙˘˙)⸝ ...happy popular love \n",
            "♡´･ᴗ･`♡ ...heart popular love In Love #7 heart smiling \n",
            "(｡•́︿•̀｡) ...So bad popular sad sad \n",
            "(⋈◍＞◡＜◍)。✧♡ ...popular love Happy Face Thinking Of Love heart smiling \n",
            "(づ◡﹏◡)づ ...Hug me #8 popular sad sad hug \n",
            "(≧◡≦) ...happy Schadenfreude joy popular smiling \n"
          ]
        }
      ]
    }
  ],
  "metadata": {
    "colab": {
      "name": "emoticon_similarity_search.ipynb",
      "provenance": []
    },
    "kernelspec": {
      "display_name": "Python 3",
      "language": "python",
      "name": "python3"
    },
    "language_info": {
      "codemirror_mode": {
        "name": "ipython",
        "version": 3
      },
      "file_extension": ".py",
      "mimetype": "text/x-python",
      "name": "python",
      "nbconvert_exporter": "python",
      "pygments_lexer": "ipython3",
      "version": "3.8.8"
    }
  },
  "nbformat": 4,
  "nbformat_minor": 0
}